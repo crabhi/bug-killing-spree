{
 "metadata": {
  "name": "Filip - JIRA"
 },
 "nbformat": 3,
 "nbformat_minor": 0,
 "worksheets": [
  {
   "cells": [
    {
     "cell_type": "code",
     "collapsed": false,
     "input": "import requests\nimport sys\nfrom itertools import groupby\n\nJIRA_URL = \"https://jira.chemaxon.com/rest/api/2\"\n",
     "language": "python",
     "metadata": {},
     "outputs": [],
     "prompt_number": 42
    },
    {
     "cell_type": "code",
     "collapsed": false,
     "input": "jql = \"\"\"project = IJC\n            AND type in (Bug, Improvement)\n            AND updated > 2014-08-11\n            AND status IN (\"Testing Complete\", \"Testing Required\", Closed)\n            ORDER BY updated DESC\"\"\"\n\nparams = { \"jql\": jql, \"fields\": \"priority,issuetype\", \"expand\": \"changelog\" }\nresp = requests.get(JIRA_URL + \"/search\", auth=('fsedlak', '???'), params=params)",
     "language": "python",
     "metadata": {},
     "outputs": [],
     "prompt_number": 35
    },
    {
     "cell_type": "code",
     "collapsed": false,
     "input": "if resp.status_code != 200:\n    print >> sys.stderr, \"Failed request (%s): %s\" % (resp, resp.text)",
     "language": "python",
     "metadata": {},
     "outputs": [],
     "prompt_number": 36
    },
    {
     "cell_type": "code",
     "collapsed": false,
     "input": "issues = resp.json()[\"issues\"]",
     "language": "python",
     "metadata": {},
     "outputs": [],
     "prompt_number": 15
    },
    {
     "cell_type": "code",
     "collapsed": false,
     "input": "TESTING_REQUIRED = 10002\nTESTING_COMPLETE = 10001\nCLOSED = 6\n\ndef put_to_testing_required(item):\n    return (item[\"field\"] == u'status' and int(item[\"to\"]) == TESTING_REQUIRED)\n\ndef put_backwards(item):\n    return (item[\"field\"] == 'status' and int(item[\"to\"]) not in (TESTING_REQUIRED, TESTING_COMPLETE, CLOSED))\n\ndef issue_put_to_test_by(issue):\n    updates = issue[\"changelog\"][\"histories\"]\n    \n    advanced = None\n    for update in updates:\n        for item in update[\"items\"]:\n            if put_to_testing_required(item):\n                advanced = {k : update[k] for k in (\"author\", \"created\")}\n                \n                if issue[\"key\"] == \"IJC-7132\":\n                    print \"advanced %s\" % issue[\"key\"]\n            elif put_backwards(item):\n                if issue[\"key\"] == \"IJC-7132\":\n                    print \"backed %s: %s\" % (issue[\"key\"], item[\"to\"])\n                advanced = None\n\n    return (issue[\"key\"], advanced)\n\nadvancers = filter(lambda item: item[1] is not None, map(issue_put_to_test_by, issues))",
     "language": "python",
     "metadata": {},
     "outputs": [
      {
       "output_type": "stream",
       "stream": "stdout",
       "text": "backed IJC-7132: 3\nadvanced IJC-7132\n"
      }
     ],
     "prompt_number": 59
    },
    {
     "cell_type": "code",
     "collapsed": false,
     "input": "#print advancers\n\ndef author_name(item):\n    return item[1][\"author\"][\"name\"]\n\nusers = {author_name(i): i[1][\"author\"] for i in advancers}\n",
     "language": "python",
     "metadata": {},
     "outputs": [],
     "prompt_number": 71
    },
    {
     "cell_type": "code",
     "collapsed": false,
     "input": "d = {}\nfor user, updates in groupby(sorted(advancers, key=author_name), key=author_name):\n    d[user] = [(u[0], u[1][\"created\"]) for u in updates]",
     "language": "python",
     "metadata": {},
     "outputs": [],
     "prompt_number": 74
    },
    {
     "cell_type": "code",
     "collapsed": false,
     "input": "",
     "language": "python",
     "metadata": {},
     "outputs": [],
     "prompt_number": 74
    },
    {
     "cell_type": "code",
     "collapsed": false,
     "input": "",
     "language": "python",
     "metadata": {},
     "outputs": []
    }
   ],
   "metadata": {}
  }
 ]
}
